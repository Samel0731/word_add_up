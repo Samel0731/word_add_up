{
 "cells": [
  {
   "cell_type": "markdown",
   "metadata": {},
   "source": [
    "## 讀入要分析的資料"
   ]
  },
  {
   "cell_type": "code",
   "execution_count": 2,
   "metadata": {},
   "outputs": [
    {
     "data": {
      "text/html": [
       "<div>\n",
       "<style scoped>\n",
       "    .dataframe tbody tr th:only-of-type {\n",
       "        vertical-align: middle;\n",
       "    }\n",
       "\n",
       "    .dataframe tbody tr th {\n",
       "        vertical-align: top;\n",
       "    }\n",
       "\n",
       "    .dataframe thead th {\n",
       "        text-align: right;\n",
       "    }\n",
       "</style>\n",
       "<table border=\"1\" class=\"dataframe\">\n",
       "  <thead>\n",
       "    <tr style=\"text-align: right;\">\n",
       "      <th></th>\n",
       "      <th>itemid</th>\n",
       "      <th>catid</th>\n",
       "      <th>sub_catid</th>\n",
       "      <th>third_catid</th>\n",
       "      <th>name</th>\n",
       "      <th>description</th>\n",
       "      <th>hashtag_list</th>\n",
       "      <th>name_wseg</th>\n",
       "      <th>name_wpos</th>\n",
       "      <th>description_wseg</th>\n",
       "      <th>description_wpos</th>\n",
       "    </tr>\n",
       "  </thead>\n",
       "  <tbody>\n",
       "    <tr>\n",
       "      <th>0</th>\n",
       "      <td>18476616</td>\n",
       "      <td>76</td>\n",
       "      <td>2644</td>\n",
       "      <td>5872</td>\n",
       "      <td>🐰🇰🇷【韓國現貨直送到府】呼吸SU:M37 甦秘水份驚喜高效補水玻尿酸眼霜活水潤澤亮采眼膠🐰...</td>\n",
       "      <td>#呼吸#SUM37° #安瓶#補水#驚喜水份#韓國#代購#人氣#孕婦#敏感肌#眼霜#正韓#純...</td>\n",
       "      <td>[#呼吸, #SUM37, #安瓶, #補水, #驚喜水份, #韓國, #代購, #人氣, ...</td>\n",
       "      <td>🐰 🇰 🇷 【 韓國 現貨 直 送到 府 】 呼吸 SU:M 37 甦秘 水份 驚喜 高效 ...</td>\n",
       "      <td>FW FW FW PARENTHESISCATEGORY Nc Na D VCL Na PA...</td>\n",
       "      <td># 呼吸 #SUM 37 ° # 安瓶 # 補水 # 驚喜 水份 # 韓國 # 代購 # 人...</td>\n",
       "      <td>FW VC FW Neu Nf FW Na FW VA FW VH Na FW Nc FW ...</td>\n",
       "    </tr>\n",
       "    <tr>\n",
       "      <th>1</th>\n",
       "      <td>18167613</td>\n",
       "      <td>63</td>\n",
       "      <td>1535</td>\n",
       "      <td>8500</td>\n",
       "      <td>冰絲U凸網孔平角褲(寶藍)</td>\n",
       "      <td>商品介紹\\n◆純色冰絲順滑材質+低腰提臀設計+前檔U凸囊袋設計，讓男性的豪邁性感指數破表！優...</td>\n",
       "      <td>[]</td>\n",
       "      <td>冰絲 U 凸網孔 平角褲 ( 寶藍 )</td>\n",
       "      <td>Na FW Na Na PARENTHESISCATEGORY A PARENTHESISC...</td>\n",
       "      <td>商品 介紹\\n◆ 純色 冰絲 順滑 材質 + 低腰 提 臀 設計 + 前檔 U 凸 囊袋 設...</td>\n",
       "      <td>Na VE\\nFW Na Na VH Na FW A VC Na VC FW Na FW V...</td>\n",
       "    </tr>\n",
       "    <tr>\n",
       "      <th>2</th>\n",
       "      <td>15223412</td>\n",
       "      <td>64</td>\n",
       "      <td>1829</td>\n",
       "      <td>7788</td>\n",
       "      <td>A&amp;F專櫃帶回真品Abercrombie&amp;Fitch  Colorful Classic F...</td>\n",
       "      <td>所有商品皆為美國專櫃帶回全新真品,皆品質保證並附上原廠吊牌請買家安心選購 [有實體工作室，也...</td>\n",
       "      <td>[]</td>\n",
       "      <td>A&amp;F 專櫃 帶回 真品 Abercrombie &amp;Fitch Colorful Class...</td>\n",
       "      <td>FW Nc VC Na FW FW FW FW FW FW Na Na Na Na Na D...</td>\n",
       "      <td>所有 商品 皆 為 美國 專櫃 帶回 全新 真品 , 皆 品質 保證 並 附上 原廠 吊牌 ...</td>\n",
       "      <td>Neqa Na D P Nc Nc VC VH Na COMMACATEGORY D Na ...</td>\n",
       "    </tr>\n",
       "    <tr>\n",
       "      <th>3</th>\n",
       "      <td>9903120</td>\n",
       "      <td>1859</td>\n",
       "      <td>1867</td>\n",
       "      <td>5731</td>\n",
       "      <td>【💕安琪拉鞋坊💕】💥 牛頭牌 new buffalo 輕便.防水.止滑 男款 \"拼圖拖\" 黑...</td>\n",
       "      <td>材質：Bufflite高分子複合材質 \\n產地：MIT 100%台灣製造 \\n特色： \\n ...</td>\n",
       "      <td>[]</td>\n",
       "      <td>【 💕 安琪拉鞋坊 💕 】 💥 牛頭牌 new buffalo 輕便 . 防水 . 止滑 男...</td>\n",
       "      <td>PARENTHESISCATEGORY Nb Nb FW PARENTHESISCATEGO...</td>\n",
       "      <td>材質 ： Bufflite 高分子 複合 材質\\n產地 ： MIT 100% 台灣 製造\\n...</td>\n",
       "      <td>Na COLONCATEGORY FW Na A Na\\nNc COLONCATEGORY ...</td>\n",
       "    </tr>\n",
       "    <tr>\n",
       "      <th>4</th>\n",
       "      <td>13102901</td>\n",
       "      <td>63</td>\n",
       "      <td>1535</td>\n",
       "      <td>5749</td>\n",
       "      <td>小三福 棉男大短袖 O領 [563]</td>\n",
       "      <td>#小三福  台灣製 現貨供應中~~\\n\\n※\\t目前標價已打9折優惠喔!!\\n\\n※ 顏色:...</td>\n",
       "      <td>[#小三福, #包屁衣, #外套, #和服, #肚衣, #背心, #內褲, #長短袖內衣, ...</td>\n",
       "      <td>小三福 棉男 大 短袖 O 領 [563 ]</td>\n",
       "      <td>Nb Na VH Na FW VC FW PARENTHESISCATEGORY</td>\n",
       "      <td># 小三福 台灣製 現貨 供應 中 ~~\\n\\n※ 目前 標價 已 打 9折 優惠 喔 ! ...</td>\n",
       "      <td>FW Nb A Na VD Ng FW\\n\\nFW Nd Na D VC Neqa VJ T...</td>\n",
       "    </tr>\n",
       "  </tbody>\n",
       "</table>\n",
       "</div>"
      ],
      "text/plain": [
       "     itemid  catid  sub_catid  third_catid  \\\n",
       "0  18476616     76       2644         5872   \n",
       "1  18167613     63       1535         8500   \n",
       "2  15223412     64       1829         7788   \n",
       "3   9903120   1859       1867         5731   \n",
       "4  13102901     63       1535         5749   \n",
       "\n",
       "                                                name  \\\n",
       "0  🐰🇰🇷【韓國現貨直送到府】呼吸SU:M37 甦秘水份驚喜高效補水玻尿酸眼霜活水潤澤亮采眼膠🐰...   \n",
       "1                                      冰絲U凸網孔平角褲(寶藍)   \n",
       "2  A&F專櫃帶回真品Abercrombie&Fitch  Colorful Classic F...   \n",
       "3  【💕安琪拉鞋坊💕】💥 牛頭牌 new buffalo 輕便.防水.止滑 男款 \"拼圖拖\" 黑...   \n",
       "4                                 小三福 棉男大短袖 O領 [563]   \n",
       "\n",
       "                                         description  \\\n",
       "0  #呼吸#SUM37° #安瓶#補水#驚喜水份#韓國#代購#人氣#孕婦#敏感肌#眼霜#正韓#純...   \n",
       "1  商品介紹\\n◆純色冰絲順滑材質+低腰提臀設計+前檔U凸囊袋設計，讓男性的豪邁性感指數破表！優...   \n",
       "2  所有商品皆為美國專櫃帶回全新真品,皆品質保證並附上原廠吊牌請買家安心選購 [有實體工作室，也...   \n",
       "3  材質：Bufflite高分子複合材質 \\n產地：MIT 100%台灣製造 \\n特色： \\n ...   \n",
       "4  #小三福  台灣製 現貨供應中~~\\n\\n※\\t目前標價已打9折優惠喔!!\\n\\n※ 顏色:...   \n",
       "\n",
       "                                        hashtag_list  \\\n",
       "0  [#呼吸, #SUM37, #安瓶, #補水, #驚喜水份, #韓國, #代購, #人氣, ...   \n",
       "1                                                 []   \n",
       "2                                                 []   \n",
       "3                                                 []   \n",
       "4  [#小三福, #包屁衣, #外套, #和服, #肚衣, #背心, #內褲, #長短袖內衣, ...   \n",
       "\n",
       "                                           name_wseg  \\\n",
       "0  🐰 🇰 🇷 【 韓國 現貨 直 送到 府 】 呼吸 SU:M 37 甦秘 水份 驚喜 高效 ...   \n",
       "1                                冰絲 U 凸網孔 平角褲 ( 寶藍 )   \n",
       "2  A&F 專櫃 帶回 真品 Abercrombie &Fitch Colorful Class...   \n",
       "3  【 💕 安琪拉鞋坊 💕 】 💥 牛頭牌 new buffalo 輕便 . 防水 . 止滑 男...   \n",
       "4                             小三福 棉男 大 短袖 O 領 [563 ]   \n",
       "\n",
       "                                           name_wpos  \\\n",
       "0  FW FW FW PARENTHESISCATEGORY Nc Na D VCL Na PA...   \n",
       "1  Na FW Na Na PARENTHESISCATEGORY A PARENTHESISC...   \n",
       "2  FW Nc VC Na FW FW FW FW FW FW Na Na Na Na Na D...   \n",
       "3  PARENTHESISCATEGORY Nb Nb FW PARENTHESISCATEGO...   \n",
       "4           Nb Na VH Na FW VC FW PARENTHESISCATEGORY   \n",
       "\n",
       "                                    description_wseg  \\\n",
       "0  # 呼吸 #SUM 37 ° # 安瓶 # 補水 # 驚喜 水份 # 韓國 # 代購 # 人...   \n",
       "1  商品 介紹\\n◆ 純色 冰絲 順滑 材質 + 低腰 提 臀 設計 + 前檔 U 凸 囊袋 設...   \n",
       "2  所有 商品 皆 為 美國 專櫃 帶回 全新 真品 , 皆 品質 保證 並 附上 原廠 吊牌 ...   \n",
       "3  材質 ： Bufflite 高分子 複合 材質\\n產地 ： MIT 100% 台灣 製造\\n...   \n",
       "4  # 小三福 台灣製 現貨 供應 中 ~~\\n\\n※ 目前 標價 已 打 9折 優惠 喔 ! ...   \n",
       "\n",
       "                                    description_wpos  \n",
       "0  FW VC FW Neu Nf FW Na FW VA FW VH Na FW Nc FW ...  \n",
       "1  Na VE\\nFW Na Na VH Na FW A VC Na VC FW Na FW V...  \n",
       "2  Neqa Na D P Nc Nc VC VH Na COMMACATEGORY D Na ...  \n",
       "3  Na COLONCATEGORY FW Na A Na\\nNc COLONCATEGORY ...  \n",
       "4  FW Nb A Na VD Ng FW\\n\\nFW Nd Na D VC Neqa VJ T...  "
      ]
     },
     "execution_count": 2,
     "metadata": {},
     "output_type": "execute_result"
    }
   ],
   "source": [
    "# !pip install pandas\n",
    "import pandas as pd\n",
    "\n",
    "# read json data to a dataframe\n",
    "df_raw = pd.read_json('Shopee_training_ckipseg_v3_OK.json')\n",
    "# peek dataframe first 5 rows\n",
    "df_raw.head()"
   ]
  },
  {
   "cell_type": "code",
   "execution_count": 3,
   "metadata": {},
   "outputs": [
    {
     "name": "stdout",
     "output_type": "stream",
     "text": [
      "itemid, catid, sub_catid, third_catid, name, description, hashtag_list, name_wseg, name_wpos, description_wseg, description_wpos, "
     ]
    }
   ],
   "source": [
    "# show the columns name\n",
    "for col in df_raw.columns:\n",
    "    print(col, end=', ')"
   ]
  },
  {
   "cell_type": "code",
   "execution_count": 4,
   "metadata": {},
   "outputs": [
    {
     "data": {
      "text/html": [
       "<div>\n",
       "<style scoped>\n",
       "    .dataframe tbody tr th:only-of-type {\n",
       "        vertical-align: middle;\n",
       "    }\n",
       "\n",
       "    .dataframe tbody tr th {\n",
       "        vertical-align: top;\n",
       "    }\n",
       "\n",
       "    .dataframe thead th {\n",
       "        text-align: right;\n",
       "    }\n",
       "</style>\n",
       "<table border=\"1\" class=\"dataframe\">\n",
       "  <thead>\n",
       "    <tr style=\"text-align: right;\">\n",
       "      <th></th>\n",
       "      <th>description_wseg</th>\n",
       "      <th>description_wpos</th>\n",
       "    </tr>\n",
       "  </thead>\n",
       "  <tbody>\n",
       "    <tr>\n",
       "      <th>0</th>\n",
       "      <td># 呼吸 #SUM 37 ° # 安瓶 # 補水 # 驚喜 水份 # 韓國 # 代購 # 人...</td>\n",
       "      <td>FW VC FW Neu Nf FW Na FW VA FW VH Na FW Nc FW ...</td>\n",
       "    </tr>\n",
       "    <tr>\n",
       "      <th>1</th>\n",
       "      <td>商品 介紹\\n◆ 純色 冰絲 順滑 材質 + 低腰 提 臀 設計 + 前檔 U 凸 囊袋 設...</td>\n",
       "      <td>Na VE\\nFW Na Na VH Na FW A VC Na VC FW Na FW V...</td>\n",
       "    </tr>\n",
       "    <tr>\n",
       "      <th>2</th>\n",
       "      <td>所有 商品 皆 為 美國 專櫃 帶回 全新 真品 , 皆 品質 保證 並 附上 原廠 吊牌 ...</td>\n",
       "      <td>Neqa Na D P Nc Nc VC VH Na COMMACATEGORY D Na ...</td>\n",
       "    </tr>\n",
       "    <tr>\n",
       "      <th>3</th>\n",
       "      <td>材質 ： Bufflite 高分子 複合 材質\\n產地 ： MIT 100% 台灣 製造\\n...</td>\n",
       "      <td>Na COLONCATEGORY FW Na A Na\\nNc COLONCATEGORY ...</td>\n",
       "    </tr>\n",
       "    <tr>\n",
       "      <th>4</th>\n",
       "      <td># 小三福 台灣製 現貨 供應 中 ~~\\n\\n※ 目前 標價 已 打 9折 優惠 喔 ! ...</td>\n",
       "      <td>FW Nb A Na VD Ng FW\\n\\nFW Nd Na D VC Neqa VJ T...</td>\n",
       "    </tr>\n",
       "  </tbody>\n",
       "</table>\n",
       "</div>"
      ],
      "text/plain": [
       "                                    description_wseg  \\\n",
       "0  # 呼吸 #SUM 37 ° # 安瓶 # 補水 # 驚喜 水份 # 韓國 # 代購 # 人...   \n",
       "1  商品 介紹\\n◆ 純色 冰絲 順滑 材質 + 低腰 提 臀 設計 + 前檔 U 凸 囊袋 設...   \n",
       "2  所有 商品 皆 為 美國 專櫃 帶回 全新 真品 , 皆 品質 保證 並 附上 原廠 吊牌 ...   \n",
       "3  材質 ： Bufflite 高分子 複合 材質\\n產地 ： MIT 100% 台灣 製造\\n...   \n",
       "4  # 小三福 台灣製 現貨 供應 中 ~~\\n\\n※ 目前 標價 已 打 9折 優惠 喔 ! ...   \n",
       "\n",
       "                                    description_wpos  \n",
       "0  FW VC FW Neu Nf FW Na FW VA FW VH Na FW Nc FW ...  \n",
       "1  Na VE\\nFW Na Na VH Na FW A VC Na VC FW Na FW V...  \n",
       "2  Neqa Na D P Nc Nc VC VH Na COMMACATEGORY D Na ...  \n",
       "3  Na COLONCATEGORY FW Na A Na\\nNc COLONCATEGORY ...  \n",
       "4  FW Nb A Na VD Ng FW\\n\\nFW Nd Na D VC Neqa VJ T...  "
      ]
     },
     "execution_count": 4,
     "metadata": {},
     "output_type": "execute_result"
    }
   ],
   "source": [
    "# get colums in df_raw by name, df_description have two colums description_wseg and description_wpos\n",
    "df_description = df_raw[[\"description_wseg\", \"description_wpos\"]]\n",
    "df_description.head()"
   ]
  },
  {
   "cell_type": "code",
   "execution_count": 13,
   "metadata": {},
   "outputs": [
    {
     "data": {
      "text/html": [
       "<div>\n",
       "<style scoped>\n",
       "    .dataframe tbody tr th:only-of-type {\n",
       "        vertical-align: middle;\n",
       "    }\n",
       "\n",
       "    .dataframe tbody tr th {\n",
       "        vertical-align: top;\n",
       "    }\n",
       "\n",
       "    .dataframe thead th {\n",
       "        text-align: right;\n",
       "    }\n",
       "</style>\n",
       "<table border=\"1\" class=\"dataframe\">\n",
       "  <thead>\n",
       "    <tr style=\"text-align: right;\">\n",
       "      <th></th>\n",
       "      <th>description_wseg</th>\n",
       "      <th>description_wpos</th>\n",
       "    </tr>\n",
       "  </thead>\n",
       "  <tbody>\n",
       "    <tr>\n",
       "      <th>9485</th>\n",
       "      <td>SKECHERS ( 女 ) 健走 系列 On The GO - 13839 BLU\\n\\n...</td>\n",
       "      <td>FW PARENTHESISCATEGORY Na PARENTHESISCATEGORY ...</td>\n",
       "    </tr>\n",
       "    <tr>\n",
       "      <th>9486</th>\n",
       "      <td>🔘 U 凸 立體 囊袋 舒適 自信 寬 邊 亮色 時尚 國旗 配色\\n\\n🔘 顏色 : 白 ...</td>\n",
       "      <td>FW FW VH VH Na VH Na VH Ncd Na Na Na VA\\n\\nFW ...</td>\n",
       "    </tr>\n",
       "    <tr>\n",
       "      <th>9487</th>\n",
       "      <td>G.P 涉水 多功能 涼拖鞋 ~ 2016 新款 透氣 排水 設計\\n\\nG6889-20 ...</td>\n",
       "      <td>Nb VA VH Na Caa Nd A VA VA Na\\n\\nNb VH Neu Nf ...</td>\n",
       "    </tr>\n",
       "    <tr>\n",
       "      <th>9488</th>\n",
       "      <td>G.P 涉水 多功能 涼拖鞋 ~ 2016 新款 G6898M-22 淺藍 40-44號\\n...</td>\n",
       "      <td>Nb VA VH Na Caa Nd A Nb Na Nb\\n\\nNa Neu Na Neu...</td>\n",
       "    </tr>\n",
       "    <tr>\n",
       "      <th>9489</th>\n",
       "      <td>《 日樣 精品 》 台北市 實體 店面 歡迎 參觀 選購\\n感謝 網友 長期 對 本 賣場 ...</td>\n",
       "      <td>PARENTHESISCATEGORY Nb Na PARENTHESISCATEGORY ...</td>\n",
       "    </tr>\n",
       "  </tbody>\n",
       "</table>\n",
       "</div>"
      ],
      "text/plain": [
       "                                       description_wseg  \\\n",
       "9485  SKECHERS ( 女 ) 健走 系列 On The GO - 13839 BLU\\n\\n...   \n",
       "9486  🔘 U 凸 立體 囊袋 舒適 自信 寬 邊 亮色 時尚 國旗 配色\\n\\n🔘 顏色 : 白 ...   \n",
       "9487  G.P 涉水 多功能 涼拖鞋 ~ 2016 新款 透氣 排水 設計\\n\\nG6889-20 ...   \n",
       "9488  G.P 涉水 多功能 涼拖鞋 ~ 2016 新款 G6898M-22 淺藍 40-44號\\n...   \n",
       "9489  《 日樣 精品 》 台北市 實體 店面 歡迎 參觀 選購\\n感謝 網友 長期 對 本 賣場 ...   \n",
       "\n",
       "                                       description_wpos  \n",
       "9485  FW PARENTHESISCATEGORY Na PARENTHESISCATEGORY ...  \n",
       "9486  FW FW VH VH Na VH Na VH Ncd Na Na Na VA\\n\\nFW ...  \n",
       "9487  Nb VA VH Na Caa Nd A VA VA Na\\n\\nNb VH Neu Nf ...  \n",
       "9488  Nb VA VH Na Caa Nd A Nb Na Nb\\n\\nNa Neu Na Neu...  \n",
       "9489  PARENTHESISCATEGORY Nb Na PARENTHESISCATEGORY ...  "
      ]
     },
     "execution_count": 13,
     "metadata": {},
     "output_type": "execute_result"
    }
   ],
   "source": [
    "df_description.tail()"
   ]
  },
  {
   "cell_type": "code",
   "execution_count": 5,
   "metadata": {},
   "outputs": [],
   "source": [
    "# replace all \\n and \\t in df_description dataframe \n",
    "clean_description = df_description.replace(regex={'\\n': ' ', '\\t': ''})\n",
    "\n",
    "# make sure replace working\n",
    "for i in range(len(df_description.index)):\n",
    "    tmp_wseg = df_description.iloc[i,0].replace('\\t', '')\n",
    "    tmp_wpos = df_description.iloc[i,1].replace('\\t', '')\n",
    "    \n",
    "    tmp_wseg = tmp_wseg.replace('\\n', ' ')\n",
    "    tmp_wpos = tmp_wpos.replace('\\n', ' ')\n",
    "\n",
    "    assert tmp_wseg == clean_description.iloc[i,0], \"row {}, wseg not equal,\\n{}\\n-------\\n{}\".format(i,tmp_wseg,clean_description.iloc[i,0])\n",
    "    assert tmp_wpos == clean_description.iloc[i,1], \"row {}, wseg not equal,\".format(i)\n"
   ]
  },
  {
   "cell_type": "code",
   "execution_count": 6,
   "metadata": {},
   "outputs": [
    {
     "data": {
      "text/html": [
       "<div>\n",
       "<style scoped>\n",
       "    .dataframe tbody tr th:only-of-type {\n",
       "        vertical-align: middle;\n",
       "    }\n",
       "\n",
       "    .dataframe tbody tr th {\n",
       "        vertical-align: top;\n",
       "    }\n",
       "\n",
       "    .dataframe thead th {\n",
       "        text-align: right;\n",
       "    }\n",
       "</style>\n",
       "<table border=\"1\" class=\"dataframe\">\n",
       "  <thead>\n",
       "    <tr style=\"text-align: right;\">\n",
       "      <th></th>\n",
       "      <th>description_wseg</th>\n",
       "      <th>description_wpos</th>\n",
       "    </tr>\n",
       "  </thead>\n",
       "  <tbody>\n",
       "    <tr>\n",
       "      <th>0</th>\n",
       "      <td># 呼吸 #SUM 37 ° # 安瓶 # 補水 # 驚喜 水份 # 韓國 # 代購 # 人...</td>\n",
       "      <td>FW VC FW Neu Nf FW Na FW VA FW VH Na FW Nc FW ...</td>\n",
       "    </tr>\n",
       "    <tr>\n",
       "      <th>1</th>\n",
       "      <td>商品 介紹 ◆ 純色 冰絲 順滑 材質 + 低腰 提 臀 設計 + 前檔 U 凸 囊袋 設計...</td>\n",
       "      <td>Na VE FW Na Na VH Na FW A VC Na VC FW Na FW VH...</td>\n",
       "    </tr>\n",
       "    <tr>\n",
       "      <th>2</th>\n",
       "      <td>所有 商品 皆 為 美國 專櫃 帶回 全新 真品 , 皆 品質 保證 並 附上 原廠 吊牌 ...</td>\n",
       "      <td>Neqa Na D P Nc Nc VC VH Na COMMACATEGORY D Na ...</td>\n",
       "    </tr>\n",
       "    <tr>\n",
       "      <th>3</th>\n",
       "      <td>材質 ： Bufflite 高分子 複合 材質 產地 ： MIT 100% 台灣 製造 特色...</td>\n",
       "      <td>Na COLONCATEGORY FW Na A Na Nc COLONCATEGORY F...</td>\n",
       "    </tr>\n",
       "    <tr>\n",
       "      <th>4</th>\n",
       "      <td># 小三福 台灣製 現貨 供應 中 ~~  ※ 目前 標價 已 打 9折 優惠 喔 ! ! ...</td>\n",
       "      <td>FW Nb A Na VD Ng FW  FW Nd Na D VC Neqa VJ T E...</td>\n",
       "    </tr>\n",
       "  </tbody>\n",
       "</table>\n",
       "</div>"
      ],
      "text/plain": [
       "                                    description_wseg  \\\n",
       "0  # 呼吸 #SUM 37 ° # 安瓶 # 補水 # 驚喜 水份 # 韓國 # 代購 # 人...   \n",
       "1  商品 介紹 ◆ 純色 冰絲 順滑 材質 + 低腰 提 臀 設計 + 前檔 U 凸 囊袋 設計...   \n",
       "2  所有 商品 皆 為 美國 專櫃 帶回 全新 真品 , 皆 品質 保證 並 附上 原廠 吊牌 ...   \n",
       "3  材質 ： Bufflite 高分子 複合 材質 產地 ： MIT 100% 台灣 製造 特色...   \n",
       "4  # 小三福 台灣製 現貨 供應 中 ~~  ※ 目前 標價 已 打 9折 優惠 喔 ! ! ...   \n",
       "\n",
       "                                    description_wpos  \n",
       "0  FW VC FW Neu Nf FW Na FW VA FW VH Na FW Nc FW ...  \n",
       "1  Na VE FW Na Na VH Na FW A VC Na VC FW Na FW VH...  \n",
       "2  Neqa Na D P Nc Nc VC VH Na COMMACATEGORY D Na ...  \n",
       "3  Na COLONCATEGORY FW Na A Na Nc COLONCATEGORY F...  \n",
       "4  FW Nb A Na VD Ng FW  FW Nd Na D VC Neqa VJ T E...  "
      ]
     },
     "execution_count": 6,
     "metadata": {},
     "output_type": "execute_result"
    }
   ],
   "source": [
    "# All description in clean_description dataframe don't have \\n and \\t\n",
    "clean_description.head()"
   ]
  },
  {
   "cell_type": "markdown",
   "metadata": {},
   "source": [
    "## 資料預處理\n",
    "1. 處理 \\t \\n 等等符號\n",
    "2. 用空白分割 description_wseg `split(' ')`\n",
    "3. 準備 dataframe\n",
    "   1. column 設成兩個          1.斷好的詞, 2.詞的資訊\n",
    "   2. 每一個 row 有兩個欄位     1.詞, 2.dict {'詞性': 頻率}"
   ]
  },
  {
   "cell_type": "markdown",
   "metadata": {},
   "source": [
    "## Dataframe example\n",
    "\n",
    "   * 存有出現什麼字，和對應的資料是在 List 中哪一個位置\n",
    "\n",
    "   | world | world_info |\n",
    "   |:-----:|:----------:|\n",
    "   | 即期   | 0 |\n",
    "   | 義美   | 1 |\n",
    "   | .      | . |\n",
    "   | .      | . |\n",
    "   | .      | . |\n",
    "\n",
    "   * 存詞性出現的次數\n",
    "\n",
    "   | List | | |\n",
    "   |------|------|------|\n",
    "   | 0 | 1 | ... |\n",
    "   | {'VH': 14, 'VK': 2} | {'Nb': 33} | ... |\n",
    "\n",
    "   * {\n",
    "   * \n",
    "   * }"
   ]
  },
  {
   "cell_type": "code",
   "execution_count": 7,
   "metadata": {},
   "outputs": [
    {
     "data": {
      "text/html": [
       "<div>\n",
       "<style scoped>\n",
       "    .dataframe tbody tr th:only-of-type {\n",
       "        vertical-align: middle;\n",
       "    }\n",
       "\n",
       "    .dataframe tbody tr th {\n",
       "        vertical-align: top;\n",
       "    }\n",
       "\n",
       "    .dataframe thead th {\n",
       "        text-align: right;\n",
       "    }\n",
       "</style>\n",
       "<table border=\"1\" class=\"dataframe\">\n",
       "  <thead>\n",
       "    <tr style=\"text-align: right;\">\n",
       "      <th></th>\n",
       "      <th>world</th>\n",
       "      <th>world_pos</th>\n",
       "      <th>world_info</th>\n",
       "    </tr>\n",
       "  </thead>\n",
       "  <tbody>\n",
       "  </tbody>\n",
       "</table>\n",
       "</div>"
      ],
      "text/plain": [
       "Empty DataFrame\n",
       "Columns: [world, world_pos, world_info]\n",
       "Index: []"
      ]
     },
     "execution_count": 7,
     "metadata": {},
     "output_type": "execute_result"
    }
   ],
   "source": [
    "df_world_addup = pd.DataFrame(columns=['world','world_pos', 'world_info'])\n",
    "# df_world_addup.set_index('world_info')\n",
    "df_world_addup.head()"
   ]
  },
  {
   "cell_type": "code",
   "execution_count": 8,
   "metadata": {},
   "outputs": [],
   "source": [
    "dict_world_addup = {}"
   ]
  },
  {
   "cell_type": "markdown",
   "metadata": {},
   "source": [
    "## 統計詞的頻率\n",
    "資料有 5000 筆，每一筆有 description_wseg 是斷好詞的商品資訊， description_wpos 是各詞對應的詞性。\n",
    "1. 把 description_wseg 裡的詞放入 dataframe 的 column1(world)\n",
    "2. 把 description_wpos 對應的詞性放入 dataframe 的 column2(world_info), 對應的詞性加一"
   ]
  },
  {
   "cell_type": "code",
   "execution_count": 13,
   "metadata": {},
   "outputs": [
    {
     "name": "stderr",
     "output_type": "stream",
     "text": [
      " 11%|█         | 1000/9490 [00:03<00:26, 323.57it/s]\n"
     ]
    }
   ],
   "source": [
    "# !pip install tqdm\n",
    "from tqdm import tqdm\n",
    "for i in tqdm(range(len(clean_description.index))):\n",
    "    # dataframe row i wseg[i, 0] wpos[i, 1]\n",
    "    wseg = clean_description.iloc[i, 0].split(' ')\n",
    "    wpos = clean_description.iloc[i, 1].split(' ')\n",
    "    \n",
    "    assert len(wseg)==len(wpos), \"row{}, wseg and wpos len not equal, {}!={}\".format(i, len(wseg), len(wpos))\n",
    "    \n",
    "    # row_worlds = pd.DataFrame([wseg, list(range(len(wseg)))], columns=['world', 'world_info'])\n",
    "    row_worlds = pd.DataFrame({\n",
    "        'world': wseg,\n",
    "        'world_pos': wpos,\n",
    "        'world_info':[1]*len(wseg),\n",
    "    })\n",
    "    \n",
    "    # print(row_worlds)\n",
    "    df_world_addup = pd.concat([df_world_addup, row_worlds], ignore_index=True)\n",
    "    \n",
    "    # testing break loop\n",
    "    if i==1000:\n",
    "        break"
   ]
  },
  {
   "cell_type": "code",
   "execution_count": 89,
   "metadata": {},
   "outputs": [
    {
     "name": "stdout",
     "output_type": "stream",
     "text": [
      "['尺碼', '24-28', 'm', '·', '筒', '高', ':', '台灣製', '淺', '口襪', '·', '厚薄', ':', '一般', '·', '面料', '主材質', ':', '棉', '80%', '·', '圖案', ':', '黑', '·', '服裝', '款式', '細節', ':', '吸濕', '排汗', '·', '襪子', '功能', '用途', ':', '防臭', '抗菌', '超彈力', '·', '風格', ':', '大眾', '款', '·', '適用', '性別', ':', '男', '女', '皆', '可', '']\n",
      "['Na', 'FW', 'FW', 'Na', 'VH', 'FW', 'A', 'VH', 'Na', 'Nb', 'Na', 'FW', 'A', 'Nb', 'Na', 'Na', 'FW', 'Na', 'Neqa', 'Nb', 'Na', 'FW', 'VH', 'Nb', 'Na', 'Na', 'Na', 'COLONCATEGORY', 'A', 'VA', 'Nb', 'Na', 'Na', 'Na', 'FW', 'VH', 'VH', 'Na', 'Nb', 'Na', 'FW', 'Nh', 'Na', 'Nb', 'VJ', 'Na', 'FW', 'Na', 'Na', 'D', 'D', '']\n"
     ]
    }
   ],
   "source": [
    "wseg = clean_description.iloc[300, 0].split(' ')\n",
    "wpos = clean_description.iloc[300, 1].split(' ')\n",
    "print(wseg)\n",
    "print(wpos)"
   ]
  },
  {
   "cell_type": "code",
   "execution_count": 14,
   "metadata": {},
   "outputs": [
    {
     "name": "stdout",
     "output_type": "stream",
     "text": [
      "       world      world_pos world_info\n",
      "0          #             FW          1\n",
      "1         呼吸             VC          1\n",
      "2       #SUM             FW          1\n",
      "3         37            Neu          1\n",
      "4          °             Nf          1\n",
      "...      ...            ...        ...\n",
      "153909     元             Nf          1\n",
      "153910     ，  COMMACATEGORY          1\n",
      "153911    特價             Na          1\n",
      "153912  3200            Neu          1\n",
      "153913     元             Nf          1\n",
      "\n",
      "[153914 rows x 3 columns]\n"
     ]
    }
   ],
   "source": [
    "print(df_world_addup)"
   ]
  },
  {
   "cell_type": "code",
   "execution_count": 17,
   "metadata": {},
   "outputs": [
    {
     "name": "stdout",
     "output_type": "stream",
     "text": [
      "      world       world_pos world_info\n",
      "19215     ，   COMMACATEGORY       5398\n",
      "0                                 5039\n",
      "13321     的              DE       2727\n",
      "4192      、   PAUSECATEGORY       2425\n",
      "4193      。  PERIODCATEGORY       1893\n",
      "...     ...             ...        ...\n",
      "12388    潮坊              Nc          1\n",
      "5108    佳歡迎              Nb          1\n",
      "12390   潮流包              Na          1\n",
      "12391   潮濕處              Nc          1\n",
      "3786     re              FW          1\n",
      "\n",
      "[19580 rows x 3 columns]\n",
      "      world            world_pos world_info\n",
      "0                                      5039\n",
      "1         \u0003                   FW          1\n",
      "2         !  EXCLAMATIONCATEGORY        521\n",
      "3         !                   FW          1\n",
      "4         !                    I          2\n",
      "...     ...                  ...        ...\n",
      "19575     🚨                   FW          7\n",
      "19576     🚩                   FW         14\n",
      "19577     🚫                   FW         25\n",
      "19578     🤗                   FW          1\n",
      "19579     🦁                   FW          2\n",
      "\n",
      "[19580 rows x 3 columns]\n",
      "The ASCII value of '  ' is\n",
      "<class 'pandas.core.frame.DataFrame'>\n"
     ]
    }
   ],
   "source": [
    "# print(df_world_addup.groupby(['world']).sum())\n",
    "sum_world = df_world_addup.groupby(['world', 'world_pos'], as_index=False)['world_info'].sum()\n",
    "print(sum_world.sort_values('world_info', ascending=False))\n",
    "print(sum_world)\n",
    "top_freq_world = sum_world.iloc[0,0]\n",
    "# # print the ASCII value of assigned character in c \n",
    "print(\"The ASCII value of '\" , top_freq_world , \"' is\")\n",
    "sum_world.head()\n",
    "print(type(sum_world))"
   ]
  },
  {
   "cell_type": "code",
   "execution_count": null,
   "metadata": {},
   "outputs": [],
   "source": [
    "for i in range(len(clean_description.index)):\n",
    "    # dataframe row i wseg[i, 0] wpos[i, 1]\n",
    "    wseg = clean_description.iloc[i, 0].split(' ')\n",
    "    wpos = clean_description.iloc[i, 1].split(' ')\n",
    "    \n",
    "    assert len(wseg)==len(wpos), \"wseg and wpos len not equal, {}!={}\".fromat(len(wseg), len(wpos))\n",
    "    \n",
    "    # row_worlds = pd.DataFrame([wseg, list(range(len(wseg)))], columns=['world', 'world_info'])\n",
    "    row_worlds = pd.DataFrame({\n",
    "        'world':wseg,\n",
    "        'world_info':[1]*len(wseg),\n",
    "    })\n",
    "    # row_worlds.set_index('world_info')\n",
    "    print(row_worlds)\n",
    "    df_world_addup = pd.concat([df_world_addup, row_worlds], ignore_index=True)\n",
    "    for world, world_pos in zip(wseg, wpos):\n",
    "        dict_world_addup[world] = {'world_pos':1}\n",
    "    \n",
    "    # testing break loop\n",
    "    if i==1:\n",
    "        break"
   ]
  },
  {
   "cell_type": "markdown",
   "metadata": {},
   "source": [
    "## 輸出 json 檔案\n",
    "依照以下格式：\n",
    ">  ```json\n",
    ">  {\n",
    ">    '即期': {'VH': 14, 'VK': 2},\n",
    ">    '義美': {'Nb': 33}, ...\n",
    ">  }\n",
    ">  ```"
   ]
  }
 ],
 "metadata": {
  "kernelspec": {
   "display_name": "ntouvenv",
   "language": "python",
   "name": "python3"
  },
  "language_info": {
   "codemirror_mode": {
    "name": "ipython",
    "version": 3
   },
   "file_extension": ".py",
   "mimetype": "text/x-python",
   "name": "python",
   "nbconvert_exporter": "python",
   "pygments_lexer": "ipython3",
   "version": "3.10.4"
  }
 },
 "nbformat": 4,
 "nbformat_minor": 2
}
